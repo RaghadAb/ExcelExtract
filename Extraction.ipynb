{
 "cells": [
  {
   "cell_type": "code",
   "execution_count": null,
   "metadata": {},
   "outputs": [],
   "source": [
    "import os\n",
    "directoryPath = ''\n",
    "os.chdir(directoryPath)\n",
    "folder_list = os.listdir(directoryPath)\n",
    "import pandas as pd\n",
    "import datetime\n",
    "\n"
   ]
  },
  {
   "cell_type": "code",
   "execution_count": null,
   "metadata": {},
   "outputs": [],
   "source": [
    "mydataFrame = pd.DataFrame()\n",
    "for folders, sub_folders, file in os.walk(directoryPath):\n",
    "    for name in file:\n",
    "        if name.endswith(\".xls\"):\n",
    "            date_time = name[15:29]\n",
    "            print(name)\n",
    "            filename = os.path.join(folders, name)\n",
    "            print(filename)\n",
    "            x = pd.read_table(filename)\n",
    "            x[\"time\"] = datetime.datetime.strptime(date_time, '%Y%m%d%H%M%S').time()\n",
    "            x[\"date\"] = datetime.datetime.strptime(date_time, '%Y%m%d%H%M%S').date()\n",
    "            mydataFrame = mydataFrame.append(x)\n",
    "            \n",
    "\n",
    "     "
   ]
  },
  {
   "cell_type": "code",
   "execution_count": null,
   "metadata": {},
   "outputs": [],
   "source": []
  },
  {
   "cell_type": "code",
   "execution_count": 29,
   "metadata": {},
   "outputs": [],
   "source": [
    "mydataFrame.to_csv(\"final.csv\", index = False)"
   ]
  },
  {
   "cell_type": "code",
   "execution_count": null,
   "metadata": {},
   "outputs": [],
   "source": []
  },
  {
   "cell_type": "code",
   "execution_count": null,
   "metadata": {},
   "outputs": [],
   "source": []
  }
 ],
 "metadata": {
  "kernelspec": {
   "display_name": "Python 3",
   "language": "python",
   "name": "python3"
  },
  "language_info": {
   "codemirror_mode": {
    "name": "ipython",
    "version": 3
   },
   "file_extension": ".py",
   "mimetype": "text/x-python",
   "name": "python",
   "nbconvert_exporter": "python",
   "pygments_lexer": "ipython3",
   "version": "3.6.10"
  }
 },
 "nbformat": 4,
 "nbformat_minor": 4
}
